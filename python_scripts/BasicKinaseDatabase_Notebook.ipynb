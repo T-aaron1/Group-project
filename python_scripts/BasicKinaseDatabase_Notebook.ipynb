{
 "cells": [
  {
   "cell_type": "markdown",
   "metadata": {},
   "source": [
    "## Step 1: Connecting to sqlite3 server and creating table(s) within database"
   ]
  },
  {
   "cell_type": "code",
   "execution_count": 37,
   "metadata": {},
   "outputs": [],
   "source": [
    "import sqlite3\n",
    "sqlite3.connect('kinase__phospositeDB.db') # Define connection to sqlite3 server\n",
    "\n",
    "conn = sqlite3.connect('kinase__phospositeDB.db')  # You can create a new database by changing the name within the quotes\n",
    "c = conn.cursor() # The database will be saved in the location where your 'py' (python script) file is saved\n",
    "\n",
    "# To make database, make the tables first\n",
    "\n",
    "# Create table - KINASE\n",
    "c.execute('''CREATE TABLE KINASE\n",
    "             ([uniprot_id] VARCHAR PRIMARY KEY,[Name] VARCHAR, [mass] FLOAT)''')\n",
    "\n",
    "# Create table - PHOSPHOSITE\n",
    "c.execute('''CREATE TABLE PHOSPHOSITE\n",
    "             ([uniprot_id] VARCHAR PRIMARY KEY,[Residue] INTEGER)''')\n",
    "\n",
    "# Third table to represent the output of a query between the two linked tables from above \n",
    "c.execute('''CREATE TABLE KIN_PHOSPHOSITE\n",
    "             ([Name] VARCHAR, [Residue] INTEGER, [mass] FLOAT)''')\n",
    "\n",
    "\n",
    "conn.commit()"
   ]
  },
  {
   "cell_type": "markdown",
   "metadata": {},
   "source": [
    "## Step 2: Import the (raw) Data using Pandas\n",
    "\n",
    "The imported kinase data will be stored in the KINASE table. \n",
    "\n",
    "While the imported Phosphosite data will be stored in the PHOSPHOSITE table. \n",
    "\n",
    "We will then be able to link the data from the KINASE table to the data from the PHOSPHOSITE table via the uniprot_ID field."
   ]
  },
  {
   "cell_type": "code",
   "execution_count": 38,
   "metadata": {},
   "outputs": [
    {
     "name": "stdout",
     "output_type": "stream",
     "text": [
      "       Name uniprot_id     mass\n",
      "0      AKT1     P31749   55.686\n",
      "1      AKT2     P31751   55.769\n",
      "2      AKT3     Q9Y243   55.775\n",
      "3  CDC42BPA     Q5VT25  197.307\n",
      "4  CDC42BPB     Q9Y5S2  194.315\n"
     ]
    }
   ],
   "source": [
    "import pandas as pd\n",
    "from pandas import DataFrame\n",
    "\n",
    "conn = sqlite3.connect('kinase__phospositeDB.db')  \n",
    "c = conn.cursor()\n",
    "\n",
    "# Importing kinase csv file \n",
    "read_kinase = pd.read_csv('BasicKinase.csv')\n",
    "print(read_kinase)"
   ]
  },
  {
   "cell_type": "code",
   "execution_count": 39,
   "metadata": {},
   "outputs": [
    {
     "name": "stdout",
     "output_type": "stream",
     "text": [
      "  uniprot_id  Residue\n",
      "0     P31749      450\n",
      "1     P31751      126\n",
      "2     Q9Y243      447\n",
      "3     Q5VT25     1719\n",
      "4     Q9Y5S2     1682\n"
     ]
    }
   ],
   "source": [
    "# Importing phosphosite csv file \n",
    "read_phosphosite = pd.read_csv('BasicPhosphosite.csv')\n",
    "print(read_phosphosite)"
   ]
  },
  {
   "cell_type": "markdown",
   "metadata": {},
   "source": [
    "The two CSVs are successfully imported.\n",
    "However, currently the tables in the database (KinasePhospositeDB.db) are empty. \n",
    "We will extract the data entries in the csv and fill the empty tables "
   ]
  },
  {
   "cell_type": "code",
   "execution_count": 40,
   "metadata": {},
   "outputs": [],
   "source": [
    "# Insert the values from the csv file into the table 'KINASE'\n",
    "read_kinase.to_sql('KINASE', conn, if_exists='append', index = False)\n",
    "\n",
    "# Replace the values from the csv file into the table 'PHOSPHOSITE'\n",
    "read_phosphosite.to_sql('PHOSPHOSITE', conn, if_exists='replace', index = False)"
   ]
  },
  {
   "cell_type": "markdown",
   "metadata": {},
   "source": [
    "## Step 3: Connecting Kinase and Phosphosite tables to make a relational database"
   ]
  },
  {
   "cell_type": "code",
   "execution_count": 41,
   "metadata": {},
   "outputs": [
    {
     "data": {
      "text/plain": [
       "<sqlite3.Cursor at 0x1219553b0>"
      ]
     },
     "execution_count": 41,
     "metadata": {},
     "output_type": "execute_result"
    }
   ],
   "source": [
    "c.execute('''\n",
    "INSERT INTO KIN_PHOSPHOSITE (Name,Residue,mass)\n",
    "SELECT DISTINCT clt.Name, ctr.Residue, clt.mass \n",
    "FROM KINASE clt\n",
    "LEFT JOIN PHOSPHOSITE ctr ON clt.uniprot_id = ctr.uniprot_id\n",
    "          ''')\n",
    "\n",
    "# 'clt' associated to columns from KINASE table and 'ctr' associated to columns from PHOSPHOSITE table"
   ]
  },
  {
   "cell_type": "markdown",
   "metadata": {},
   "source": [
    "## Step 4: Executing an example SQL query \n",
    "The connection has been made. We can now execute an SQL query to get the name of the kinase and its mass for a given residue position of the phosphosite "
   ]
  },
  {
   "cell_type": "code",
   "execution_count": 50,
   "metadata": {},
   "outputs": [
    {
     "name": "stdout",
     "output_type": "stream",
     "text": [
      "[('CDC42BPA', 1719, 197.30700000000002)]\n"
     ]
    }
   ],
   "source": [
    "# executing an SQL query \n",
    "c.execute('''\n",
    "SELECT DISTINCT *\n",
    "FROM KIN_PHOSPHOSITE\n",
    "WHERE Residue = (SELECT max(Residue) FROM KIN_PHOSPHOSITE)\n",
    "          ''')\n",
    "\n",
    "# Above SQL command is asking to query based on the highest residue position of the phosphosite and return as the output\n",
    "# the name of the kinase, its mass \n",
    "\n",
    "\n",
    "# Output of the query\n",
    "print(c.fetchall()) # Returns output as a list"
   ]
  },
  {
   "cell_type": "code",
   "execution_count": 70,
   "metadata": {},
   "outputs": [
    {
     "name": "stdout",
     "output_type": "stream",
     "text": [
      "Empty DataFrame\n",
      "Columns: [Name, Residue, mass]\n",
      "Index: []\n"
     ]
    }
   ],
   "source": [
    "df = DataFrame(c.fetchall(), columns=['Name','Residue','mass'])\n",
    "\n",
    "print (df) "
   ]
  },
  {
   "cell_type": "code",
   "execution_count": 67,
   "metadata": {},
   "outputs": [],
   "source": [
    "# Insert the values from the INSERT QUERY into the table 'KIN_PHOSPHOSITE'\n",
    "df.to_sql('KIN_PHOSPHOSITE', conn, if_exists='append', index = False) "
   ]
  },
  {
   "cell_type": "code",
   "execution_count": null,
   "metadata": {},
   "outputs": [],
   "source": []
  }
 ],
 "metadata": {
  "kernelspec": {
   "display_name": "Python 3",
   "language": "python",
   "name": "python3"
  },
  "language_info": {
   "codemirror_mode": {
    "name": "ipython",
    "version": 3
   },
   "file_extension": ".py",
   "mimetype": "text/x-python",
   "name": "python",
   "nbconvert_exporter": "python",
   "pygments_lexer": "ipython3",
   "version": "3.7.4"
  }
 },
 "nbformat": 4,
 "nbformat_minor": 2
}
