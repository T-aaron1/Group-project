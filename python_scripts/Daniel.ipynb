{
 "cells": [
  {
   "cell_type": "markdown",
   "metadata": {},
   "source": [
    "get mass"
   ]
  },
  {
   "cell_type": "code",
   "execution_count": 25,
   "metadata": {},
   "outputs": [],
   "source": [
    "%run -i 'get_mass.py'"
   ]
  },
  {
   "cell_type": "markdown",
   "metadata": {},
   "source": [
    "# Get data from uniprot api"
   ]
  },
  {
   "cell_type": "code",
   "execution_count": 1,
   "metadata": {},
   "outputs": [],
   "source": [
    "import retrieve_from_xml_uniprotapi as uniprotxml"
   ]
  },
  {
   "cell_type": "code",
   "execution_count": 2,
   "metadata": {},
   "outputs": [
    {
     "name": "stderr",
     "output_type": "stream",
     "text": [
      "/homes/dtg30/Desktop/group_proj/venv/src/Group-project/python_scripts/retrieve_from_xml_uniprotapi.py:17: UserWarning: No parser was explicitly specified, so I'm using the best available HTML parser for this system (\"html.parser\"). This usually isn't a problem, but if you run this code on another system, or in a different virtual environment, it may use a different parser and behave differently.\n",
      "\n",
      "The code that caused this warning is on line 17 of the file /homes/dtg30/Desktop/group_proj/venv/src/Group-project/python_scripts/retrieve_from_xml_uniprotapi.py. To get rid of this warning, pass the additional argument 'features=\"html.parser\"' to the BeautifulSoup constructor.\n",
      "\n",
      "  bs_data = BeautifulSoup(requested_xml.content)\n"
     ]
    }
   ],
   "source": [
    "datos = uniprotxml.get_uniprot_data('P31749')"
   ]
  },
  {
   "cell_type": "code",
   "execution_count": 3,
   "metadata": {},
   "outputs": [
    {
     "data": {
      "text/plain": [
       "'P31749'"
      ]
     },
     "execution_count": 3,
     "metadata": {},
     "output_type": "execute_result"
    }
   ],
   "source": [
    "uniprotxml.get_accession(datos)"
   ]
  },
  {
   "cell_type": "code",
   "execution_count": 26,
   "metadata": {},
   "outputs": [
    {
     "ename": "KeyError",
     "evalue": "'uniprotxml'",
     "output_type": "error",
     "traceback": [
      "\u001b[0;31m---------------------------------------------------------------------------\u001b[0m",
      "\u001b[0;31mKeyError\u001b[0m                                  Traceback (most recent call last)",
      "\u001b[0;32m<ipython-input-26-5f0e54b0922e>\u001b[0m in \u001b[0;36m<module>\u001b[0;34m\u001b[0m\n\u001b[1;32m      1\u001b[0m \u001b[0;32mimport\u001b[0m \u001b[0msys\u001b[0m\u001b[0;34m\u001b[0m\u001b[0;34m\u001b[0m\u001b[0m\n\u001b[0;32m----> 2\u001b[0;31m \u001b[0;32mdel\u001b[0m \u001b[0msys\u001b[0m\u001b[0;34m.\u001b[0m\u001b[0mmodules\u001b[0m\u001b[0;34m[\u001b[0m\u001b[0;34m\"uniprotxml\"\u001b[0m\u001b[0;34m]\u001b[0m\u001b[0;34m\u001b[0m\u001b[0;34m\u001b[0m\u001b[0m\n\u001b[0m\u001b[1;32m      3\u001b[0m \u001b[0;32mdel\u001b[0m \u001b[0muniprotxml\u001b[0m\u001b[0;34m\u001b[0m\u001b[0;34m\u001b[0m\u001b[0m\n",
      "\u001b[0;31mKeyError\u001b[0m: 'uniprotxml'"
     ]
    }
   ],
   "source": [
    "import sys\n",
    "del sys.modules[\"uniprotxml\"]\n",
    "del uniprotxml\n"
   ]
  },
  {
   "cell_type": "markdown",
   "metadata": {},
   "source": [
    "# Random things, tests"
   ]
  },
  {
   "cell_type": "code",
   "execution_count": 1,
   "metadata": {},
   "outputs": [],
   "source": [
    "def get_uniprot_data(accession):\n",
    "    ''' get data from uniprot api. The data is in xml. This uses bs4 BeautifulSoup to parse it\n",
    "     for eg: https://www.ebi.ac.uk/proteins/api/coordinates?offset=0&size=100&accession=P31749'''\n",
    "    text = 'https://www.ebi.ac.uk/proteins/api/coordinates?offset=0&size=100&accession={}'.format(accession)\n",
    "    try:\n",
    "        import requests\n",
    "    except:\n",
    "        'requests package not installed. Run \"pip install -r requirements\"'\n",
    "    try:\n",
    "        from bs4 import BeautifulSoup\n",
    "    except:\n",
    "        print(' bs4 package not installed. Run \"pip install -r requirements\"')\n",
    "    try:\n",
    "        requested_xml = requests.get(text)\n",
    "    except:\n",
    "        print('Problem with the following accession number: ' + accession)\n",
    "    bs_data = BeautifulSoup(requested_xml.content)\n",
    "    return bs_data"
   ]
  },
  {
   "cell_type": "code",
   "execution_count": 29,
   "metadata": {},
   "outputs": [],
   "source": [
    "datos = get_uniprot_data('P31749')"
   ]
  },
  {
   "cell_type": "code",
   "execution_count": 4,
   "metadata": {},
   "outputs": [],
   "source": [
    "def data_modif_res(bs_data):\n",
    "    ''' returns a xml list of modif residues, with all information'''\n",
    "    reference = bs_data.gnentries.gnentry.findAll('gncoordinate')[0]\n",
    "    features = reference.findAll('feature')\n",
    "    phospho_list = []\n",
    "    for entry in features:\n",
    "        if entry['type'] == 'modified residue': # extract modified residues\n",
    "             if 'hospho' in entry.findAll('ns2:description')[0].text: # is phosphosomething ?\n",
    "                 phospho_list.append(entry)\n",
    "    return phospho_list"
   ]
  },
  {
   "cell_type": "code",
   "execution_count": 46,
   "metadata": {},
   "outputs": [
    {
     "data": {
      "text/plain": [
       "<feature type=\"modified residue\"><ns2:location><ns2:position position=\"450\"></ns2:position></ns2:location><ns2:description>Phosphothreonine.</ns2:description><ns2:evidence code=\"ECO:0000244\"><ns2:dbreference id=\"24275569\" type=\"PubMed\"></ns2:dbreference></ns2:evidence><genomelocation><ns2:begin position=\"104770760\"></ns2:begin><ns2:end position=\"104770758\"></ns2:end></genomelocation></feature>"
      ]
     },
     "execution_count": 46,
     "metadata": {},
     "output_type": "execute_result"
    }
   ],
   "source": [
    "data_modif_res(datos)[0]\n"
   ]
  },
  {
   "cell_type": "code",
   "execution_count": 41,
   "metadata": {},
   "outputs": [
    {
     "name": "stdout",
     "output_type": "stream",
     "text": [
      "450\n",
      "176\n",
      "473\n",
      "129\n",
      "308\n",
      "448\n",
      "126\n",
      "124\n",
      "474\n"
     ]
    }
   ],
   "source": [
    "def modres_prot_position(bs_data):\n",
    "    mod_res_list = data_modif_res(bs_data)\n",
    "    for mod_res_item in mod_res_list:\n",
    "        print(mod_res_item.findAll('ns2:position')[0]['position'])\n",
    "        \n",
    "    \n",
    "# data_modif_res(datos)[0].findAll('ns2:position')[0]['position'] # position of modif residue\n",
    "\n",
    "# modres_prot_position(datos)"
   ]
  },
  {
   "cell_type": "code",
   "execution_count": 44,
   "metadata": {},
   "outputs": [
    {
     "name": "stdout",
     "output_type": "stream",
     "text": [
      "Phosphothreonine.\n",
      "Phosphotyrosine; by TNK2.\n",
      "Phosphoserine; by IKKE, MTOR and TBK1; alternate.\n",
      "Phosphoserine; alternate.\n",
      "Phosphothreonine; by IKKE, PDPK1 and TBK1.\n",
      "Phosphothreonine.\n",
      "Phosphoserine; alternate.\n",
      "Phosphoserine.\n",
      "Phosphotyrosine.\n"
     ]
    }
   ],
   "source": [
    "def modres_prot_descr(bs_data):\n",
    "    mod_res_list = data_modif_res(bs_data)\n",
    "    for mod_res_item in mod_res_list:\n",
    "        print(mod_res_item.findAll('ns2:description')[0].text) # type of modif\n",
    "\n",
    "# data_modif_res(datos)[0].findAll('ns2:description')[0].text # type of modif\n",
    "modres_prot_descr(datos)              "
   ]
  },
  {
   "cell_type": "code",
   "execution_count": 51,
   "metadata": {},
   "outputs": [
    {
     "name": "stdout",
     "output_type": "stream",
     "text": [
      "24275569\n",
      "PubMed\n",
      "20333297\n",
      "PubMed\n",
      "9736715\n",
      "PubMed\n",
      "8978681\n",
      "PubMed\n",
      "23799035\n",
      "PubMed\n",
      "15047712\n",
      "PubMed\n",
      "21464307\n",
      "PubMed\n",
      "16266983\n",
      "PubMed\n",
      "15718470\n",
      "PubMed\n",
      "20333297\n",
      "PubMed\n",
      "17013611\n",
      "PubMed\n",
      "14761976\n",
      "PubMed\n",
      "20978158\n",
      "PubMed\n",
      "23186163\n",
      "PubMed\n",
      "18669648\n",
      "PubMed\n",
      "17081983\n",
      "PubMed\n",
      "15718470\n",
      "PubMed\n",
      "9512493\n",
      "PubMed\n",
      "18456494\n",
      "PubMed\n",
      "8978681\n",
      "PubMed\n",
      "20333297\n",
      "PubMed\n",
      "21464307\n",
      "PubMed\n",
      "20481595\n",
      "PubMed\n",
      "24275569\n",
      "PubMed\n",
      "18669648\n",
      "PubMed\n",
      "18669648\n",
      "PubMed\n",
      "12149249\n",
      "PubMed\n"
     ]
    }
   ],
   "source": [
    "def modres_prot_refs(bs_data):\n",
    "    mod_res_list = data_modif_res(bs_data)\n",
    "    for mod_res_item in mod_res_list:\n",
    "#         print(mod_res_item.findAll('ns2:dbreference')[0]['id']) # type of modif\n",
    "        references = mod_res_item.findAll('ns2:dbreference') # position of modif residue\n",
    "        for reference in references:\n",
    "            print(reference['id'])\n",
    "            print(reference['type'])        \n",
    "        \n",
    "        \n",
    "# data_modif_res(datos)[0].findAll('ns2:description')[0].text # type of modif\n",
    "modres_prot_refs(datos)  \n",
    "\n",
    "# data_modif_res(datos)[0].findAll('ns2:dbreference')[0]['id'] # position of modif residue"
   ]
  },
  {
   "cell_type": "code",
   "execution_count": 55,
   "metadata": {},
   "outputs": [
    {
     "name": "stdout",
     "output_type": "stream",
     "text": [
      "104770760\n",
      "104770758\n",
      "104775117\n",
      "104775115\n",
      "104770367\n",
      "104770365\n",
      "104775702\n",
      "104775700\n",
      "104773286\n",
      "104773284\n",
      "104770766\n",
      "104770764\n",
      "104775711\n",
      "104775709\n",
      "104775717\n",
      "104775715\n",
      "104770364\n",
      "104770362\n"
     ]
    }
   ],
   "source": [
    "def modres_prot_genompos(bs_data):\n",
    "    mod_res_list = data_modif_res(bs_data)\n",
    "    for mod_res_item in mod_res_list:\n",
    "        print(mod_res_item.findAll('ns2:begin')[0]['position']) # end position\n",
    "        print(mod_res_item.findAll('ns2:end')[0]['position']) # end position\n",
    "        \n",
    "modres_prot_genompos(datos)     \n",
    "\n"
   ]
  },
  {
   "cell_type": "markdown",
   "metadata": {},
   "source": [
    "# RANDOM"
   ]
  },
  {
   "cell_type": "code",
   "execution_count": 29,
   "metadata": {},
   "outputs": [
    {
     "name": "stdout",
     "output_type": "stream",
     "text": [
      "<bar>\n",
      "<type foobar=\"1\"></type>\n",
      "<type foobar=\"2\"></type>\n",
      "</bar>\n",
      "[<type foobar=\"1\"></type>, <type foobar=\"2\"></type>]\n",
      "1\n"
     ]
    }
   ],
   "source": [
    "from bs4 import BeautifulSoup\n",
    "\n",
    "x=\"\"\"<foo>\n",
    "   <bar>\n",
    "      <type foobar=\"1\"/>\n",
    "      <type foobar=\"2\"/>\n",
    "   </bar>\n",
    "</foo>\"\"\"\n",
    "\n",
    "y=BeautifulSoup(x)\n",
    "print(y.foo.bar)\n",
    "\n",
    "print(y.foo.bar.findAll(\"type\"))\n",
    "print(y.foo.bar.findAll(\"type\")[0][\"foobar\"])"
   ]
  },
  {
   "cell_type": "code",
   "execution_count": 1,
   "metadata": {},
   "outputs": [],
   "source": [
    "from bs4 import BeautifulSoup\n",
    "import requests"
   ]
  },
  {
   "cell_type": "code",
   "execution_count": 34,
   "metadata": {},
   "outputs": [],
   "source": [
    "import requests\n",
    "text = 'https://www.ebi.ac.uk/proteins/api/coordinates?offset=0&size=100&accession=P31749'\n",
    "aa = requests.get(text)"
   ]
  },
  {
   "cell_type": "code",
   "execution_count": 154,
   "metadata": {},
   "outputs": [
    {
     "name": "stdout",
     "output_type": "stream",
     "text": [
      "Phosphothreonine.\n",
      "450\n",
      "24275569\n",
      "PubMed\n",
      "Phosphotyrosine; by TNK2.\n",
      "176\n",
      "20333297\n",
      "PubMed\n",
      "Phosphoserine; by IKKE, MTOR and TBK1; alternate.\n",
      "473\n",
      "9736715\n",
      "PubMed\n",
      "Phosphoserine; alternate.\n",
      "129\n",
      "23186163\n",
      "PubMed\n",
      "Phosphothreonine; by IKKE, PDPK1 and TBK1.\n",
      "308\n",
      "15718470\n",
      "PubMed\n",
      "Phosphothreonine.\n",
      "448\n",
      "24275569\n",
      "PubMed\n",
      "Phosphoserine; alternate.\n",
      "126\n",
      "18669648\n",
      "PubMed\n",
      "Phosphoserine.\n",
      "124\n",
      "18669648\n",
      "PubMed\n",
      "Phosphotyrosine.\n",
      "474\n",
      "12149249\n",
      "PubMed\n"
     ]
    }
   ],
   "source": [
    "data_modif_res = y.gnentries.gnentry.findAll('gncoordinate')[0].findAll('feature')\n",
    "for entry in data_modif_res:\n",
    "    if entry['type'] == 'modified residue': #only mod res\n",
    "        if 'hospho' in entry.findAll('ns2:description')[0].text: #description is phosphosomething\n",
    "            print(entry.findAll('ns2:description')[0].text) # what is mod. needs to order this\n",
    "            print(entry.findAll('ns2:position')[0]['position']) # position of modification\n",
    "            print(entry.findAll('ns2:evidence')[0].findAll('ns2:dbreference')[0]['id']) #needs a loop #pubmedid\n",
    "            print(entry.findAll('ns2:evidence')[0].findAll('ns2:dbreference')[0]['type'])#needs a loop #pubmed"
   ]
  },
  {
   "cell_type": "markdown",
   "metadata": {},
   "source": []
  }
 ],
 "metadata": {
  "kernelspec": {
   "display_name": "Python 3",
   "language": "python",
   "name": "python3"
  },
  "language_info": {
   "codemirror_mode": {
    "name": "ipython",
    "version": 3
   },
   "file_extension": ".py",
   "mimetype": "text/x-python",
   "name": "python",
   "nbconvert_exporter": "python",
   "pygments_lexer": "ipython3",
   "version": "3.6.8"
  }
 },
 "nbformat": 4,
 "nbformat_minor": 4
}
