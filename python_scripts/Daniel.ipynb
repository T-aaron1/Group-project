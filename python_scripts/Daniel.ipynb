{
 "cells": [
  {
   "cell_type": "markdown",
   "metadata": {},
   "source": [
    "get mass"
   ]
  },
  {
   "cell_type": "code",
   "execution_count": 25,
   "metadata": {},
   "outputs": [],
   "source": [
    "%run -i 'get_mass.py'"
   ]
  },
  {
   "cell_type": "markdown",
   "metadata": {},
   "source": [
    "# Get data from uniprot api"
   ]
  },
  {
   "cell_type": "code",
   "execution_count": 1,
   "metadata": {},
   "outputs": [],
   "source": [
    "import retrieve_from_xml_uniprotapi as uniprotxml"
   ]
  },
  {
   "cell_type": "code",
   "execution_count": 2,
   "metadata": {},
   "outputs": [
    {
     "name": "stderr",
     "output_type": "stream",
     "text": [
      "/homes/dtg30/Desktop/group_proj/venv/src/Group-project/python_scripts/retrieve_from_xml_uniprotapi.py:17: UserWarning: No parser was explicitly specified, so I'm using the best available HTML parser for this system (\"html.parser\"). This usually isn't a problem, but if you run this code on another system, or in a different virtual environment, it may use a different parser and behave differently.\n",
      "\n",
      "The code that caused this warning is on line 17 of the file /homes/dtg30/Desktop/group_proj/venv/src/Group-project/python_scripts/retrieve_from_xml_uniprotapi.py. To get rid of this warning, pass the additional argument 'features=\"html.parser\"' to the BeautifulSoup constructor.\n",
      "\n",
      "  bs_data = BeautifulSoup(requested_xml.content)\n"
     ]
    }
   ],
   "source": [
    "datos = uniprotxml.get_uniprot_data('P31749')"
   ]
  },
  {
   "cell_type": "code",
   "execution_count": 3,
   "metadata": {},
   "outputs": [
    {
     "data": {
      "text/plain": [
       "'P31749'"
      ]
     },
     "execution_count": 3,
     "metadata": {},
     "output_type": "execute_result"
    }
   ],
   "source": [
    "uniprotxml.get_accession(datos)"
   ]
  },
  {
   "cell_type": "code",
   "execution_count": 26,
   "metadata": {},
   "outputs": [
    {
     "ename": "KeyError",
     "evalue": "'uniprotxml'",
     "output_type": "error",
     "traceback": [
      "\u001b[0;31m---------------------------------------------------------------------------\u001b[0m",
      "\u001b[0;31mKeyError\u001b[0m                                  Traceback (most recent call last)",
      "\u001b[0;32m<ipython-input-26-5f0e54b0922e>\u001b[0m in \u001b[0;36m<module>\u001b[0;34m\u001b[0m\n\u001b[1;32m      1\u001b[0m \u001b[0;32mimport\u001b[0m \u001b[0msys\u001b[0m\u001b[0;34m\u001b[0m\u001b[0;34m\u001b[0m\u001b[0m\n\u001b[0;32m----> 2\u001b[0;31m \u001b[0;32mdel\u001b[0m \u001b[0msys\u001b[0m\u001b[0;34m.\u001b[0m\u001b[0mmodules\u001b[0m\u001b[0;34m[\u001b[0m\u001b[0;34m\"uniprotxml\"\u001b[0m\u001b[0;34m]\u001b[0m\u001b[0;34m\u001b[0m\u001b[0;34m\u001b[0m\u001b[0m\n\u001b[0m\u001b[1;32m      3\u001b[0m \u001b[0;32mdel\u001b[0m \u001b[0muniprotxml\u001b[0m\u001b[0;34m\u001b[0m\u001b[0;34m\u001b[0m\u001b[0m\n",
      "\u001b[0;31mKeyError\u001b[0m: 'uniprotxml'"
     ]
    }
   ],
   "source": [
    "import sys\n",
    "del sys.modules[\"uniprotxml\"]\n",
    "del uniprotxml\n"
   ]
  },
  {
   "cell_type": "markdown",
   "metadata": {},
   "source": [
    "# Random things, tests"
   ]
  },
  {
   "cell_type": "code",
   "execution_count": 4,
   "metadata": {},
   "outputs": [],
   "source": [
    "def get_uniprot_data(accession):\n",
    "    ''' get data from uniprot api. The data is in xml. This uses bs4 BeautifulSoup to parse it\n",
    "     for eg: https://www.ebi.ac.uk/proteins/api/coordinates?offset=0&size=100&accession=P31749'''\n",
    "    text = 'https://www.ebi.ac.uk/proteins/api/coordinates?offset=0&size=100&accession={}'.format(accession)\n",
    "    try:\n",
    "        import requests\n",
    "    except:\n",
    "        'requests package not installed. Run \"pip install -r requirements\"'\n",
    "    try:\n",
    "        from bs4 import BeautifulSoup\n",
    "    except:\n",
    "        print(' bs4 package not installed. Run \"pip install -r requirements\"')\n",
    "    try:\n",
    "        requested_xml = requests.get(text)\n",
    "    except:\n",
    "        print('Problem with the following accession number: ' + accession)\n",
    "    bs_data = BeautifulSoup(requested_xml.content)\n",
    "    return bs_data\n"
   ]
  },
  {
   "cell_type": "code",
   "execution_count": 5,
   "metadata": {},
   "outputs": [],
   "source": [
    "datos = get_uniprot_data('P31749')"
   ]
  },
  {
   "cell_type": "code",
   "execution_count": 6,
   "metadata": {},
   "outputs": [],
   "source": [
    "def get_ensembl_geneid(bs_data):\n",
    "    ''' get ensembl gene id name from bs_data from get_uniprot_data,\n",
    "        returns a list'''\n",
    "    genes = bs_data.gnentries.gnentry.findAll('gncoordinate')\n",
    "    for gene in genes:\n",
    "        print(gene['ensembl_gene_id'] )\n"
   ]
  },
  {
   "cell_type": "code",
   "execution_count": 15,
   "metadata": {},
   "outputs": [],
   "source": [
    "def data_modif_res(bs_data):\n",
    "    reference = bs_data.gnentries.gnentry.findAll('gncoordinate')[0]\n",
    "    features = reference.findAll('feature')\n",
    "    phospho_list = []\n",
    "    for entry in features:\n",
    "        if entry['type'] == 'modified residue': # extract modified residues\n",
    "             if 'hospho' in entry.findAll('ns2:description')[0].text: # is phosphosomething ?\n",
    "                 phospho_list.append(entry)\n",
    "    return phospho_list                "
   ]
  },
  {
   "cell_type": "code",
   "execution_count": 17,
   "metadata": {},
   "outputs": [
    {
     "data": {
      "text/plain": [
       "<feature type=\"modified residue\"><ns2:location><ns2:position position=\"450\"></ns2:position></ns2:location><ns2:description>Phosphothreonine.</ns2:description><ns2:evidence code=\"ECO:0000244\"><ns2:dbreference id=\"24275569\" type=\"PubMed\"></ns2:dbreference></ns2:evidence><genomelocation><ns2:begin position=\"104770760\"></ns2:begin><ns2:end position=\"104770758\"></ns2:end></genomelocation></feature>"
      ]
     },
     "execution_count": 17,
     "metadata": {},
     "output_type": "execute_result"
    }
   ],
   "source": [
    "data_modif_res(datos)[0]"
   ]
  },
  {
   "cell_type": "code",
   "execution_count": 29,
   "metadata": {},
   "outputs": [],
   "source": [
    "del get_ensembl_tranlid"
   ]
  },
  {
   "cell_type": "code",
   "execution_count": 29,
   "metadata": {},
   "outputs": [
    {
     "name": "stdout",
     "output_type": "stream",
     "text": [
      "<bar>\n",
      "<type foobar=\"1\"></type>\n",
      "<type foobar=\"2\"></type>\n",
      "</bar>\n",
      "[<type foobar=\"1\"></type>, <type foobar=\"2\"></type>]\n",
      "1\n"
     ]
    }
   ],
   "source": [
    "from bs4 import BeautifulSoup\n",
    "\n",
    "x=\"\"\"<foo>\n",
    "   <bar>\n",
    "      <type foobar=\"1\"/>\n",
    "      <type foobar=\"2\"/>\n",
    "   </bar>\n",
    "</foo>\"\"\"\n",
    "\n",
    "y=BeautifulSoup(x)\n",
    "print(y.foo.bar)\n",
    "\n",
    "print(y.foo.bar.findAll(\"type\"))\n",
    "print(y.foo.bar.findAll(\"type\")[0][\"foobar\"])"
   ]
  },
  {
   "cell_type": "code",
   "execution_count": 1,
   "metadata": {},
   "outputs": [],
   "source": [
    "from bs4 import BeautifulSoup\n",
    "import requests"
   ]
  },
  {
   "cell_type": "code",
   "execution_count": 34,
   "metadata": {},
   "outputs": [],
   "source": [
    "import requests\n",
    "text = 'https://www.ebi.ac.uk/proteins/api/coordinates?offset=0&size=100&accession=P31749'\n",
    "aa = requests.get(text)"
   ]
  },
  {
   "cell_type": "code",
   "execution_count": 156,
   "metadata": {},
   "outputs": [
    {
     "name": "stdout",
     "output_type": "stream",
     "text": [
      "P31749\n",
      "MSDVAIVKEGWLHKRGEYIKTWRPRYFLLKNDGTFIGYKERPQDVDQREAPLNNFSVAQCQLMKTERPRPNTFIIRCLQWTTVIERTFHVETPEEREEWTTAIQTVADGLKKQEEEEMDFRSGSPSDNSGAEEMEVSLAKPKHRVTMNEFEYLKLLGKGTFGKVILVKEKATGRYYAMKILKKEVIVAKDEVAHTLTENRVLQNSRHPFLTALKYSFQTHDRLCFVMEYANGGELFFHLSRERVFSEDRARFYGAEIVSALDYLHSEKNVVYRDLKLENLMLDKDGHIKITDFGLCKEGIKDGATMKTFCGTPEYLAPEVLEDNDYGRAVDWWGLGVVMYEMMCGRLPFYNQDHEKLFELILMEEIRFPRTLGPEAKSLLSGLLKKDPKQRLGGGSEDAKEIMQHRFFAGIVWQHVYEKKLSPPFKPQVTSETDTRYFDEEFTAQMITITPPDQDDSMECVDSERRPHFPQFSYSASGTA\n",
      "RAC-alpha serine/threonine-protein kinase\n",
      "[<alternativename><fullname>RAC-PK-alpha</fullname></alternativename>, <alternativename><fullname>Proto-oncogene c-Akt</fullname></alternativename>, <alternativename><fullname>Protein kinase B alpha</fullname><shortname>PKB alpha</shortname></alternativename>, <alternativename><fullname>Protein kinase B</fullname><shortname>PKB</shortname></alternativename>]\n",
      "PKB\n",
      "ENSG00000142208\n",
      "ENST00000554581\n",
      "ENSP00000451828\n",
      "14\n",
      "true\n",
      "104792643\n",
      "104770344\n"
     ]
    }
   ],
   "source": [
    "y=BeautifulSoup(aa.content)\n",
    "print(y.gnentries.gnentry.accession.text) #accession\n",
    "print(y.gnentries.gnentry.sequence.text) #sequence\n",
    "print(y.gnentries.gnentry.protein.recommendedname.fullname.text) #full-name\n",
    "print(y.gnentries.gnentry.protein.findAll('alternativename')) # alternative names\n",
    "print(y.gnentries.gnentry.findAll('gene')[1].text) #alternative gene names\n",
    "print(y.gnentries.gnentry.findAll('gncoordinate')[0]['ensembl_gene_id']) # gene id\n",
    "print(y.gnentries.gnentry.findAll('gncoordinate')[0]['ensembl_transcript_id']) # transc id\n",
    "print(y.gnentries.gnentry.findAll('gncoordinate')[0]['ensembl_translation_id']) # translation id\n",
    "print(y.gnentries.gnentry.findAll('gncoordinate')[0].genomiclocation['chromosome']) #chromosome\n",
    "print(y.gnentries.gnentry.findAll('gncoordinate')[0].genomiclocation['reverse_strand']) # rev strand\n",
    "print(y.gnentries.gnentry.findAll('gncoordinate')[0].genomiclocation['start']) #start\n",
    "print(y.gnentries.gnentry.findAll('gncoordinate')[0].genomiclocation['end']) #ends"
   ]
  },
  {
   "cell_type": "code",
   "execution_count": null,
   "metadata": {},
   "outputs": [],
   "source": [
    "print(y.gnentries.gnentry.accession.text) #accession\n",
    "print(y.gnentries.gnentry.sequence.text) #sequence\n",
    "print(y.gnentries.gnentry.protein.recommendedname.fullname.text) #full-name\n",
    "print(y.gnentries.gnentry.protein.findAll('alternativename')) # alternative names\n",
    "print(y.gnentries.gnentry.findAll('gene')[1].text) #alternative gene names\n",
    "print(y.gnentries.gnentry.findAll('gncoordinate')[0]['ensembl_gene_id']) # gene id\n",
    "print(y.gnentries.gnentry.findAll('gncoordinate')[0]['ensembl_transcript_id']) # transc id\n",
    "print(y.gnentries.gnentry.findAll('gncoordinate')[0]['ensembl_translation_id']) # translation id\n",
    "print(y.gnentries.gnentry.findAll('gncoordinate')[0].genomiclocation['chromosome']) #chromosome\n",
    "print(y.gnentries.gnentry.findAll('gncoordinate')[0].genomiclocation['reverse_strand']) # rev strand\n",
    "print(y.gnentries.gnentry.findAll('gncoordinate')[0].genomiclocation['start']) #start\n",
    "print(y.gnentries.gnentry.findAll('gncoordinate')[0].genomiclocation['end']) #ends"
   ]
  },
  {
   "cell_type": "code",
   "execution_count": 154,
   "metadata": {},
   "outputs": [
    {
     "name": "stdout",
     "output_type": "stream",
     "text": [
      "Phosphothreonine.\n",
      "450\n",
      "24275569\n",
      "PubMed\n",
      "Phosphotyrosine; by TNK2.\n",
      "176\n",
      "20333297\n",
      "PubMed\n",
      "Phosphoserine; by IKKE, MTOR and TBK1; alternate.\n",
      "473\n",
      "9736715\n",
      "PubMed\n",
      "Phosphoserine; alternate.\n",
      "129\n",
      "23186163\n",
      "PubMed\n",
      "Phosphothreonine; by IKKE, PDPK1 and TBK1.\n",
      "308\n",
      "15718470\n",
      "PubMed\n",
      "Phosphothreonine.\n",
      "448\n",
      "24275569\n",
      "PubMed\n",
      "Phosphoserine; alternate.\n",
      "126\n",
      "18669648\n",
      "PubMed\n",
      "Phosphoserine.\n",
      "124\n",
      "18669648\n",
      "PubMed\n",
      "Phosphotyrosine.\n",
      "474\n",
      "12149249\n",
      "PubMed\n"
     ]
    }
   ],
   "source": [
    "data_modif_res = y.gnentries.gnentry.findAll('gncoordinate')[0].findAll('feature')\n",
    "for entry in data_modif_res:\n",
    "    if entry['type'] == 'modified residue': #only mod res\n",
    "        if 'hospho' in entry.findAll('ns2:description')[0].text: #description is phosphosomething\n",
    "            print(entry.findAll('ns2:description')[0].text) # what is mod. needs to order this\n",
    "            print(entry.findAll('ns2:position')[0]['position']) # position of modification\n",
    "            print(entry.findAll('ns2:evidence')[0].findAll('ns2:dbreference')[0]['id']) #needs a loop #pubmedid\n",
    "            print(entry.findAll('ns2:evidence')[0].findAll('ns2:dbreference')[0]['type'])#needs a loop #pubmed"
   ]
  },
  {
   "cell_type": "markdown",
   "metadata": {},
   "source": []
  }
 ],
 "metadata": {
  "kernelspec": {
   "display_name": "Python 3",
   "language": "python",
   "name": "python3"
  },
  "language_info": {
   "codemirror_mode": {
    "name": "ipython",
    "version": 3
   },
   "file_extension": ".py",
   "mimetype": "text/x-python",
   "name": "python",
   "nbconvert_exporter": "python",
   "pygments_lexer": "ipython3",
   "version": "3.6.8"
  }
 },
 "nbformat": 4,
 "nbformat_minor": 4
}
