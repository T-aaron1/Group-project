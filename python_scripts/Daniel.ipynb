{
 "cells": [
  {
   "cell_type": "markdown",
   "metadata": {},
   "source": [
    "get mass"
   ]
  },
  {
   "cell_type": "code",
   "execution_count": 25,
   "metadata": {},
   "outputs": [],
   "source": [
    "%run -i 'get_mass.py'"
   ]
  },
  {
   "cell_type": "code",
   "execution_count": 12,
   "metadata": {},
   "outputs": [],
   "source": [
    "import xml.etree.ElementTree as ET"
   ]
  },
  {
   "cell_type": "code",
   "execution_count": 13,
   "metadata": {},
   "outputs": [],
   "source": [
    "tree = ET.parse('country_data.xml')\n",
    "root = tree.getroot()"
   ]
  },
  {
   "cell_type": "code",
   "execution_count": 22,
   "metadata": {},
   "outputs": [
    {
     "name": "stdout",
     "output_type": "stream",
     "text": [
      "2008\n"
     ]
    }
   ],
   "source": [
    "print(root[0][1].text)"
   ]
  },
  {
   "cell_type": "code",
   "execution_count": 27,
   "metadata": {},
   "outputs": [
    {
     "ename": "ParseError",
     "evalue": "syntax error: line 1, column 0 (<string>)",
     "output_type": "error",
     "traceback": [
      "Traceback \u001b[0;36m(most recent call last)\u001b[0m:\n",
      "  File \u001b[1;32m\"/homes/dtg30/Desktop/group_proj/venv/lib64/python3.6/site-packages/IPython/core/interactiveshell.py\"\u001b[0m, line \u001b[1;32m3319\u001b[0m, in \u001b[1;35mrun_code\u001b[0m\n    exec(code_obj, self.user_global_ns, self.user_ns)\n",
      "  File \u001b[1;32m\"<ipython-input-27-5163ce4b77f5>\"\u001b[0m, line \u001b[1;32m1\u001b[0m, in \u001b[1;35m<module>\u001b[0m\n    root = ET.fromstring('country_data')\n",
      "\u001b[0;36m  File \u001b[0;32m\"/usr/lib64/python3.6/xml/etree/ElementTree.py\"\u001b[0;36m, line \u001b[0;32m1315\u001b[0;36m, in \u001b[0;35mXML\u001b[0;36m\u001b[0m\n\u001b[0;31m    return parser.close()\u001b[0m\n",
      "\u001b[0;36m  File \u001b[0;32m\"<string>\"\u001b[0;36m, line \u001b[0;32munknown\u001b[0m\n\u001b[0;31mParseError\u001b[0m\u001b[0;31m:\u001b[0m syntax error: line 1, column 0\n"
     ]
    }
   ],
   "source": [
    "root = ET.fromstring('country_data')"
   ]
  },
  {
   "cell_type": "code",
   "execution_count": 29,
   "metadata": {},
   "outputs": [
    {
     "name": "stdout",
     "output_type": "stream",
     "text": [
      "<bar>\n",
      "<type foobar=\"1\"></type>\n",
      "<type foobar=\"2\"></type>\n",
      "</bar>\n",
      "[<type foobar=\"1\"></type>, <type foobar=\"2\"></type>]\n",
      "1\n"
     ]
    }
   ],
   "source": [
    "from bs4 import BeautifulSoup\n",
    "\n",
    "x=\"\"\"<foo>\n",
    "   <bar>\n",
    "      <type foobar=\"1\"/>\n",
    "      <type foobar=\"2\"/>\n",
    "   </bar>\n",
    "</foo>\"\"\"\n",
    "\n",
    "y=BeautifulSoup(x)\n",
    "print(y.foo.bar)\n",
    "\n",
    "print(y.foo.bar.findAll(\"type\"))\n",
    "print(y.foo.bar.findAll(\"type\")[0][\"foobar\"])"
   ]
  },
  {
   "cell_type": "code",
   "execution_count": null,
   "metadata": {},
   "outputs": [],
   "source": [
    "from bs4 import BeautifulSoup\n"
   ]
  },
  {
   "cell_type": "code",
   "execution_count": 34,
   "metadata": {},
   "outputs": [],
   "source": [
    "import requests\n",
    "text = 'https://www.ebi.ac.uk/proteins/api/coordinates?offset=0&size=100&accession=P31749'\n",
    "aa = requests.get(text)"
   ]
  },
  {
   "cell_type": "code",
   "execution_count": 156,
   "metadata": {},
   "outputs": [
    {
     "name": "stdout",
     "output_type": "stream",
     "text": [
      "P31749\n",
      "MSDVAIVKEGWLHKRGEYIKTWRPRYFLLKNDGTFIGYKERPQDVDQREAPLNNFSVAQCQLMKTERPRPNTFIIRCLQWTTVIERTFHVETPEEREEWTTAIQTVADGLKKQEEEEMDFRSGSPSDNSGAEEMEVSLAKPKHRVTMNEFEYLKLLGKGTFGKVILVKEKATGRYYAMKILKKEVIVAKDEVAHTLTENRVLQNSRHPFLTALKYSFQTHDRLCFVMEYANGGELFFHLSRERVFSEDRARFYGAEIVSALDYLHSEKNVVYRDLKLENLMLDKDGHIKITDFGLCKEGIKDGATMKTFCGTPEYLAPEVLEDNDYGRAVDWWGLGVVMYEMMCGRLPFYNQDHEKLFELILMEEIRFPRTLGPEAKSLLSGLLKKDPKQRLGGGSEDAKEIMQHRFFAGIVWQHVYEKKLSPPFKPQVTSETDTRYFDEEFTAQMITITPPDQDDSMECVDSERRPHFPQFSYSASGTA\n",
      "RAC-alpha serine/threonine-protein kinase\n",
      "[<alternativename><fullname>RAC-PK-alpha</fullname></alternativename>, <alternativename><fullname>Proto-oncogene c-Akt</fullname></alternativename>, <alternativename><fullname>Protein kinase B alpha</fullname><shortname>PKB alpha</shortname></alternativename>, <alternativename><fullname>Protein kinase B</fullname><shortname>PKB</shortname></alternativename>]\n",
      "PKB\n",
      "ENSG00000142208\n",
      "ENST00000554581\n",
      "ENSP00000451828\n",
      "14\n",
      "true\n",
      "104792643\n",
      "104770344\n"
     ]
    }
   ],
   "source": [
    "y=BeautifulSoup(aa.content)\n",
    "print(y.gnentries.gnentry.accession.text) #accession\n",
    "print(y.gnentries.gnentry.sequence.text) #sequence\n",
    "print(y.gnentries.gnentry.protein.recommendedname.fullname.text) #full-name\n",
    "print(y.gnentries.gnentry.protein.findAll('alternativename')) # alternative names\n",
    "print(y.gnentries.gnentry.findAll('gene')[1].text) #alternative gene names\n",
    "print(y.gnentries.gnentry.findAll('gncoordinate')[0]['ensembl_gene_id']) # gene id\n",
    "print(y.gnentries.gnentry.findAll('gncoordinate')[0]['ensembl_transcript_id']) # transc id\n",
    "print(y.gnentries.gnentry.findAll('gncoordinate')[0]['ensembl_translation_id']) # translation id\n",
    "print(y.gnentries.gnentry.findAll('gncoordinate')[0].genomiclocation['chromosome']) #chromosome\n",
    "print(y.gnentries.gnentry.findAll('gncoordinate')[0].genomiclocation['reverse_strand']) # rev strand\n",
    "print(y.gnentries.gnentry.findAll('gncoordinate')[0].genomiclocation['start']) #start\n",
    "print(y.gnentries.gnentry.findAll('gncoordinate')[0].genomiclocation['end']) #ends\n",
    "# feature type=\"modified residue\"\n",
    "# <feature type=\"modified residue\">"
   ]
  },
  {
   "cell_type": "code",
   "execution_count": 154,
   "metadata": {},
   "outputs": [
    {
     "name": "stdout",
     "output_type": "stream",
     "text": [
      "Phosphothreonine.\n",
      "450\n",
      "24275569\n",
      "PubMed\n",
      "Phosphotyrosine; by TNK2.\n",
      "176\n",
      "20333297\n",
      "PubMed\n",
      "Phosphoserine; by IKKE, MTOR and TBK1; alternate.\n",
      "473\n",
      "9736715\n",
      "PubMed\n",
      "Phosphoserine; alternate.\n",
      "129\n",
      "23186163\n",
      "PubMed\n",
      "Phosphothreonine; by IKKE, PDPK1 and TBK1.\n",
      "308\n",
      "15718470\n",
      "PubMed\n",
      "Phosphothreonine.\n",
      "448\n",
      "24275569\n",
      "PubMed\n",
      "Phosphoserine; alternate.\n",
      "126\n",
      "18669648\n",
      "PubMed\n",
      "Phosphoserine.\n",
      "124\n",
      "18669648\n",
      "PubMed\n",
      "Phosphotyrosine.\n",
      "474\n",
      "12149249\n",
      "PubMed\n"
     ]
    }
   ],
   "source": [
    "data_modif_res = y.gnentries.gnentry.findAll('gncoordinate')[0].findAll('feature')\n",
    "for entry in data_modif_res:\n",
    "    if entry['type'] == 'modified residue': #only mod res\n",
    "        if 'hospho' in entry.findAll('ns2:description')[0].text: #description is phosphosomething\n",
    "            print(entry.findAll('ns2:description')[0].text) # what is mod. needs to order this\n",
    "            print(entry.findAll('ns2:position')[0]['position']) # position of modification\n",
    "            print(entry.findAll('ns2:evidence')[0].findAll('ns2:dbreference')[0]['id']) #needs a loop #pubmedid\n",
    "            print(entry.findAll('ns2:evidence')[0].findAll('ns2:dbreference')[0]['type'])#needs a loop #pubmed"
   ]
  },
  {
   "cell_type": "code",
   "execution_count": null,
   "metadata": {},
   "outputs": [],
   "source": []
  }
 ],
 "metadata": {
  "kernelspec": {
   "display_name": "Python 3",
   "language": "python",
   "name": "python3"
  },
  "language_info": {
   "codemirror_mode": {
    "name": "ipython",
    "version": 3
   },
   "file_extension": ".py",
   "mimetype": "text/x-python",
   "name": "python",
   "nbconvert_exporter": "python",
   "pygments_lexer": "ipython3",
   "version": "3.6.8"
  }
 },
 "nbformat": 4,
 "nbformat_minor": 4
}
