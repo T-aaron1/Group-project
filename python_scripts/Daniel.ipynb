{
 "cells": [
  {
   "cell_type": "markdown",
   "metadata": {},
   "source": [
    "get mass"
   ]
  },
  {
   "cell_type": "code",
   "execution_count": 25,
   "metadata": {},
   "outputs": [],
   "source": [
    "%run -i 'get_mass.py'"
   ]
  },
  {
   "cell_type": "markdown",
   "metadata": {},
   "source": [
    "# Get data from uniprot api"
   ]
  },
  {
   "cell_type": "code",
   "execution_count": 1,
   "metadata": {},
   "outputs": [],
   "source": [
    "import retrieve_from_xml_uniprotapi as uniprotxml"
   ]
  },
  {
   "cell_type": "code",
   "execution_count": 2,
   "metadata": {},
   "outputs": [
    {
     "name": "stderr",
     "output_type": "stream",
     "text": [
      "/homes/dtg30/Desktop/group_proj/venv/src/Group-project/python_scripts/retrieve_from_xml_uniprotapi.py:17: UserWarning: No parser was explicitly specified, so I'm using the best available HTML parser for this system (\"html.parser\"). This usually isn't a problem, but if you run this code on another system, or in a different virtual environment, it may use a different parser and behave differently.\n",
      "\n",
      "The code that caused this warning is on line 17 of the file /homes/dtg30/Desktop/group_proj/venv/src/Group-project/python_scripts/retrieve_from_xml_uniprotapi.py. To get rid of this warning, pass the additional argument 'features=\"html.parser\"' to the BeautifulSoup constructor.\n",
      "\n",
      "  bs_data = BeautifulSoup(requested_xml.content)\n"
     ]
    }
   ],
   "source": [
    "datos = uniprotxml.get_uniprot_data('P31749')"
   ]
  },
  {
   "cell_type": "code",
   "execution_count": 3,
   "metadata": {},
   "outputs": [
    {
     "data": {
      "text/plain": [
       "'P31749'"
      ]
     },
     "execution_count": 3,
     "metadata": {},
     "output_type": "execute_result"
    }
   ],
   "source": [
    "uniprotxml.get_accession(datos)"
   ]
  },
  {
   "cell_type": "code",
   "execution_count": 26,
   "metadata": {},
   "outputs": [
    {
     "ename": "KeyError",
     "evalue": "'uniprotxml'",
     "output_type": "error",
     "traceback": [
      "\u001b[0;31m---------------------------------------------------------------------------\u001b[0m",
      "\u001b[0;31mKeyError\u001b[0m                                  Traceback (most recent call last)",
      "\u001b[0;32m<ipython-input-26-5f0e54b0922e>\u001b[0m in \u001b[0;36m<module>\u001b[0;34m\u001b[0m\n\u001b[1;32m      1\u001b[0m \u001b[0;32mimport\u001b[0m \u001b[0msys\u001b[0m\u001b[0;34m\u001b[0m\u001b[0;34m\u001b[0m\u001b[0m\n\u001b[0;32m----> 2\u001b[0;31m \u001b[0;32mdel\u001b[0m \u001b[0msys\u001b[0m\u001b[0;34m.\u001b[0m\u001b[0mmodules\u001b[0m\u001b[0;34m[\u001b[0m\u001b[0;34m\"uniprotxml\"\u001b[0m\u001b[0;34m]\u001b[0m\u001b[0;34m\u001b[0m\u001b[0;34m\u001b[0m\u001b[0m\n\u001b[0m\u001b[1;32m      3\u001b[0m \u001b[0;32mdel\u001b[0m \u001b[0muniprotxml\u001b[0m\u001b[0;34m\u001b[0m\u001b[0;34m\u001b[0m\u001b[0m\n",
      "\u001b[0;31mKeyError\u001b[0m: 'uniprotxml'"
     ]
    }
   ],
   "source": [
    "import sys\n",
    "del sys.modules[\"uniprotxml\"]\n",
    "del uniprotxml\n"
   ]
  },
  {
   "cell_type": "markdown",
   "metadata": {},
   "source": [
    "# Random things, tests"
   ]
  },
  {
   "cell_type": "code",
   "execution_count": 3,
   "metadata": {},
   "outputs": [],
   "source": [
    "def get_uniprot_data(accession):\n",
    "    ''' get data from uniprot api. The data is in xml. This uses bs4 BeautifulSoup to parse it\n",
    "     for eg: https://www.ebi.ac.uk/proteins/api/coordinates?offset=0&size=100&accession=P31749'''\n",
    "    text = 'https://www.ebi.ac.uk/proteins/api/coordinates?offset=0&size=100&accession={}'.format(accession)\n",
    "    try:\n",
    "        import requests\n",
    "    except:\n",
    "        'requests package not installed. Run \"pip install -r requirements\"'\n",
    "    try:\n",
    "        from bs4 import BeautifulSoup\n",
    "    except:\n",
    "        print(' bs4 package not installed. Run \"pip install -r requirements\"')\n",
    "    try:\n",
    "        requested_xml = requests.get(text)\n",
    "    except:\n",
    "        print('Problem with the following accession number: ' + accession)\n",
    "    bs_data = BeautifulSoup(requested_xml.content)\n",
    "    return bs_data"
   ]
  },
  {
   "cell_type": "code",
   "execution_count": 4,
   "metadata": {},
   "outputs": [],
   "source": [
    "uniprot_id = 'P31749'\n",
    "datos = get_uniprot_data(uniprot_id)"
   ]
  },
  {
   "cell_type": "code",
   "execution_count": 18,
   "metadata": {},
   "outputs": [
    {
     "data": {
      "text/plain": [
       "<alternativename><fullname>Proto-oncogene c-Akt</fullname></alternativename>"
      ]
     },
     "execution_count": 18,
     "metadata": {},
     "output_type": "execute_result"
    }
   ],
   "source": [
    "datos.gnentries.gnentry.protein.findAll('alternativename')[1]\n"
   ]
  },
  {
   "cell_type": "code",
   "execution_count": 11,
   "metadata": {},
   "outputs": [
    {
     "data": {
      "text/plain": [
       "['P31749|RAC-PK-alpha',\n",
       " 'P31749|Proto-oncogene c-Akt',\n",
       " 'P31749|Protein kinase B alphaPKB alpha',\n",
       " 'P31749|Protein kinase BPKB']"
      ]
     },
     "execution_count": 11,
     "metadata": {},
     "output_type": "execute_result"
    }
   ],
   "source": [
    "def get_alternative_prot_names(bs_data):\n",
    "    ''' get alternative prot name from bs_data from get_uniprot_data,\n",
    "        returns a list'''\n",
    "    uniprot_id = bs_data.gnentries.gnentry.accession.text\n",
    "    # get list of all alternative names\n",
    "    all_alternatives = bs_data.gnentries.gnentry.protein.findAll('alternativename')\n",
    "    tmp_alternatives = [] # null list\n",
    "    # append to list\n",
    "    for alternative in all_alternatives:\n",
    "        text_list = [uniprot_id, alternative.text]\n",
    "        text_output = '|'.join(text_list)\n",
    "        tmp_alternatives.append(text_output)\n",
    "    return tmp_alternatives\n",
    "\n",
    "get_alternative_prot_names(datos)"
   ]
  },
  {
   "cell_type": "code",
   "execution_count": 4,
   "metadata": {},
   "outputs": [],
   "source": [
    "def data_modif_res(bs_data):\n",
    "    ''' returns a xml list of modif residues, with all information'''\n",
    "    reference = bs_data.gnentries.gnentry.findAll('gncoordinate')[0]\n",
    "    features = reference.findAll('feature')\n",
    "    phospho_list = []\n",
    "    for entry in features:\n",
    "        if entry['type'] == 'modified residue': # extract modified residues\n",
    "             if 'hospho' in entry.findAll('ns2:description')[0].text: # is phosphosomething ?\n",
    "                 phospho_list.append(entry)\n",
    "    return phospho_list"
   ]
  },
  {
   "cell_type": "code",
   "execution_count": 38,
   "metadata": {},
   "outputs": [
    {
     "name": "stdout",
     "output_type": "stream",
     "text": [
      "['P31749|450|Phosphothreonine.|104770760|104770758', 'P31749|176|Phosphotyrosine; by TNK2.|104775117|104775115', 'P31749|473|Phosphoserine; by IKKE, MTOR and TBK1; alternate.|104770367|104770365', 'P31749|129|Phosphoserine; alternate.|104775702|104775700', 'P31749|308|Phosphothreonine; by IKKE, PDPK1 and TBK1.|104773286|104773284', 'P31749|448|Phosphothreonine.|104770766|104770764', 'P31749|126|Phosphoserine; alternate.|104775711|104775709', 'P31749|124|Phosphoserine.|104775717|104775715', 'P31749|474|Phosphotyrosine.|104770364|104770362']\n"
     ]
    }
   ],
   "source": [
    "# modif residues: position, type, genom_begin, genom_end\n",
    "def modres_gral_info(bs_data, uniprot_id):\n",
    "    mod_res_list = data_modif_res(bs_data)\n",
    "    tmp_list = []\n",
    "    \n",
    "    for mod_res_item in mod_res_list:\n",
    "        \n",
    "        residue_position = str(mod_res_item.findAll('ns2:position')[0]['position']) # position\n",
    "        type_modif = mod_res_item.findAll('ns2:description')[0].text # type of modif\n",
    "        \n",
    "        genom_begin = str(mod_res_item.findAll('ns2:begin')[0]['position']) #genom_beg_pos\n",
    "        genom_end = str(mod_res_item.findAll('ns2:end')[0]['position']) #genom_end_pos\n",
    "        \n",
    "        text_list = [uniprot_id, residue_position, type_modif, genom_begin, genom_end]\n",
    "        text_row = '|'.join(text_list)\n",
    "        \n",
    "        tmp_list.append(text_row)\n",
    "        \n",
    "    return tmp_list\n",
    "\n",
    "mod_resid_results = modres_gral_info(datos, uniprot_id)\n",
    "print(mod_resid_results)"
   ]
  },
  {
   "cell_type": "code",
   "execution_count": 39,
   "metadata": {},
   "outputs": [
    {
     "name": "stdout",
     "output_type": "stream",
     "text": [
      "['P31749|450|24275569|PubMed', 'P31749|176|20333297|PubMed', 'P31749|473|9736715|PubMed', 'P31749|473|8978681|PubMed', 'P31749|473|23799035|PubMed', 'P31749|473|15047712|PubMed', 'P31749|473|21464307|PubMed', 'P31749|473|16266983|PubMed', 'P31749|473|15718470|PubMed', 'P31749|473|20333297|PubMed', 'P31749|473|17013611|PubMed', 'P31749|473|14761976|PubMed', 'P31749|473|20978158|PubMed', 'P31749|129|23186163|PubMed', 'P31749|129|18669648|PubMed', 'P31749|129|17081983|PubMed', 'P31749|308|15718470|PubMed', 'P31749|308|9512493|PubMed', 'P31749|308|18456494|PubMed', 'P31749|308|8978681|PubMed', 'P31749|308|20333297|PubMed', 'P31749|308|21464307|PubMed', 'P31749|308|20481595|PubMed', 'P31749|448|24275569|PubMed', 'P31749|126|18669648|PubMed', 'P31749|124|18669648|PubMed', 'P31749|474|12149249|PubMed']\n"
     ]
    }
   ],
   "source": [
    "# references: uniprot_id, position, references[0], references[1]\n",
    "\n",
    "def modres_references(bs_data, uniprot_id):\n",
    "    mod_res_list = data_modif_res(bs_data)\n",
    "    tmp_main_list = []\n",
    "    \n",
    "    for mod_res_item in mod_res_list:\n",
    "        residue_position = mod_res_item.findAll('ns2:position')[0]['position'] # position\n",
    "        \n",
    "        references = mod_res_item.findAll('ns2:dbreference') # position of modif residue\n",
    "        tmp_ref_list = []\n",
    "        for reference in references:\n",
    "            tmp_tup = (reference['id'],reference['type']) # (ref_id,ref_type)\n",
    "            tmp_ref_list.append(tmp_tup)\n",
    "        \n",
    "        for item in tmp_ref_list:\n",
    "            text_list = [uniprot_id, residue_position, item[0], item[1]]\n",
    "            text_output = '|'.join(text_list)\n",
    "            tmp_main_list.append(text_output)\n",
    "    \n",
    "    return tmp_main_list\n",
    "    \n",
    "tmp = modres_references(datos, uniprot_id)\n",
    "print(tmp)"
   ]
  },
  {
   "cell_type": "code",
   "execution_count": 52,
   "metadata": {},
   "outputs": [
    {
     "ename": "NameError",
     "evalue": "name 'gene_ids' is not defined",
     "output_type": "error",
     "traceback": [
      "\u001b[0;31m---------------------------------------------------------------------------\u001b[0m",
      "\u001b[0;31mNameError\u001b[0m                                 Traceback (most recent call last)",
      "\u001b[0;32m<ipython-input-52-4961eb54a78c>\u001b[0m in \u001b[0;36m<module>\u001b[0;34m\u001b[0m\n\u001b[1;32m      8\u001b[0m     \u001b[0;32mreturn\u001b[0m \u001b[0mgenes_ids\u001b[0m\u001b[0;34m\u001b[0m\u001b[0;34m\u001b[0m\u001b[0m\n\u001b[1;32m      9\u001b[0m     \u001b[0;31m# should return a list\u001b[0m\u001b[0;34m\u001b[0m\u001b[0;34m\u001b[0m\u001b[0;34m\u001b[0m\u001b[0m\n\u001b[0;32m---> 10\u001b[0;31m \u001b[0mget_ensembl_geneid\u001b[0m\u001b[0;34m(\u001b[0m\u001b[0mdatos\u001b[0m\u001b[0;34m)\u001b[0m\u001b[0;34m\u001b[0m\u001b[0;34m\u001b[0m\u001b[0m\n\u001b[0m",
      "\u001b[0;32m<ipython-input-52-4961eb54a78c>\u001b[0m in \u001b[0;36mget_ensembl_geneid\u001b[0;34m(bs_data)\u001b[0m\n\u001b[1;32m      5\u001b[0m     \u001b[0mgenes\u001b[0m \u001b[0;34m=\u001b[0m \u001b[0mbs_data\u001b[0m\u001b[0;34m.\u001b[0m\u001b[0mgnentries\u001b[0m\u001b[0;34m.\u001b[0m\u001b[0mgnentry\u001b[0m\u001b[0;34m.\u001b[0m\u001b[0mfindAll\u001b[0m\u001b[0;34m(\u001b[0m\u001b[0;34m'gncoordinate'\u001b[0m\u001b[0;34m)\u001b[0m\u001b[0;34m\u001b[0m\u001b[0;34m\u001b[0m\u001b[0m\n\u001b[1;32m      6\u001b[0m     \u001b[0;32mfor\u001b[0m \u001b[0mgene\u001b[0m \u001b[0;32min\u001b[0m \u001b[0mgenes\u001b[0m\u001b[0;34m:\u001b[0m\u001b[0;34m\u001b[0m\u001b[0;34m\u001b[0m\u001b[0m\n\u001b[0;32m----> 7\u001b[0;31m         \u001b[0mgene_ids\u001b[0m\u001b[0;34m.\u001b[0m\u001b[0mappend\u001b[0m\u001b[0;34m(\u001b[0m\u001b[0mgene\u001b[0m\u001b[0;34m[\u001b[0m\u001b[0;34m'ensembl_gene_id'\u001b[0m\u001b[0;34m]\u001b[0m \u001b[0;34m)\u001b[0m\u001b[0;34m\u001b[0m\u001b[0;34m\u001b[0m\u001b[0m\n\u001b[0m\u001b[1;32m      8\u001b[0m     \u001b[0;32mreturn\u001b[0m \u001b[0mgenes_ids\u001b[0m\u001b[0;34m\u001b[0m\u001b[0;34m\u001b[0m\u001b[0m\n\u001b[1;32m      9\u001b[0m     \u001b[0;31m# should return a list\u001b[0m\u001b[0;34m\u001b[0m\u001b[0;34m\u001b[0m\u001b[0;34m\u001b[0m\u001b[0m\n",
      "\u001b[0;31mNameError\u001b[0m: name 'gene_ids' is not defined"
     ]
    }
   ],
   "source": [
    "def get_ensembl_geneid(bs_data):\n",
    "    ''' get ensembl gene id name from bs_data from get_uniprot_data,\n",
    "        returns a list'''\n",
    "    genes_ids = []\n",
    "    genes = bs_data.gnentries.gnentry.findAll('gncoordinate')\n",
    "    for gene in genes:\n",
    "        gene_ids.append(gene['ensembl_gene_id'] )\n",
    "    return genes_ids\n",
    "    # should return a list\n",
    "get_ensembl_geneid(datos)"
   ]
  },
  {
   "cell_type": "code",
   "execution_count": 46,
   "metadata": {},
   "outputs": [
    {
     "data": {
      "text/plain": [
       "['P31749|RAC-PK-alpha',\n",
       " 'P31749|Proto-oncogene c-Akt',\n",
       " 'P31749|Protein kinase B alphaPKB alpha',\n",
       " 'P31749|Protein kinase BPKB']"
      ]
     },
     "execution_count": 46,
     "metadata": {},
     "output_type": "execute_result"
    }
   ],
   "source": [
    "def get_alternative_prot_names(bs_data):\n",
    "    ''' get alternative prot name from bs_data from get_uniprot_data,\n",
    "        returns a list'''\n",
    "    uniprot_id = bs_data.gnentries.gnentry.accession.text\n",
    "    # get list of all alternative names\n",
    "    all_alternatives = bs_data.gnentries.gnentry.protein.findAll('alternativename')\n",
    "    tmp_alternatives = [] # null list\n",
    "    # append to list\n",
    "    for alternative in all_alternatives:\n",
    "        text_list = [uniprot_id, alternative.text]\n",
    "        text_output = '|'.join(text_list)\n",
    "        tmp_alternatives.append(text_output)\n",
    "    return tmp_alternatives\n",
    "    # should return a list\n",
    "\n",
    "get_alternative_prot_names(datos)    "
   ]
  },
  {
   "cell_type": "markdown",
   "metadata": {},
   "source": [
    "# RANDOM"
   ]
  },
  {
   "cell_type": "code",
   "execution_count": 29,
   "metadata": {},
   "outputs": [
    {
     "name": "stdout",
     "output_type": "stream",
     "text": [
      "<bar>\n",
      "<type foobar=\"1\"></type>\n",
      "<type foobar=\"2\"></type>\n",
      "</bar>\n",
      "[<type foobar=\"1\"></type>, <type foobar=\"2\"></type>]\n",
      "1\n"
     ]
    }
   ],
   "source": [
    "from bs4 import BeautifulSoup\n",
    "\n",
    "x=\"\"\"<foo>\n",
    "   <bar>\n",
    "      <type foobar=\"1\"/>\n",
    "      <type foobar=\"2\"/>\n",
    "   </bar>\n",
    "</foo>\"\"\"\n",
    "\n",
    "y=BeautifulSoup(x)\n",
    "print(y.foo.bar)\n",
    "\n",
    "print(y.foo.bar.findAll(\"type\"))\n",
    "print(y.foo.bar.findAll(\"type\")[0][\"foobar\"])"
   ]
  },
  {
   "cell_type": "code",
   "execution_count": 1,
   "metadata": {},
   "outputs": [],
   "source": [
    "from bs4 import BeautifulSoup\n",
    "import requests"
   ]
  },
  {
   "cell_type": "code",
   "execution_count": 34,
   "metadata": {},
   "outputs": [],
   "source": [
    "import requests\n",
    "text = 'https://www.ebi.ac.uk/proteins/api/coordinates?offset=0&size=100&accession=P31749'\n",
    "aa = requests.get(text)"
   ]
  },
  {
   "cell_type": "markdown",
   "metadata": {},
   "source": []
  }
 ],
 "metadata": {
  "kernelspec": {
   "display_name": "Python 3",
   "language": "python",
   "name": "python3"
  },
  "language_info": {
   "codemirror_mode": {
    "name": "ipython",
    "version": 3
   },
   "file_extension": ".py",
   "mimetype": "text/x-python",
   "name": "python",
   "nbconvert_exporter": "python",
   "pygments_lexer": "ipython3",
   "version": "3.7.3"
  }
 },
 "nbformat": 4,
 "nbformat_minor": 4
}
