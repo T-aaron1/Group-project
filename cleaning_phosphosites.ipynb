{
 "cells": [
  {
   "cell_type": "code",
   "execution_count": 1,
   "metadata": {},
   "outputs": [
    {
     "name": "stderr",
     "output_type": "stream",
     "text": [
      "/homes/ly302/anaconda3/lib/python3.7/site-packages/ipykernel_launcher.py:14: SettingWithCopyWarning: \n",
      "A value is trying to be set on a copy of a slice from a DataFrame\n",
      "\n",
      "See the caveats in the documentation: http://pandas.pydata.org/pandas-docs/stable/user_guide/indexing.html#returning-a-view-versus-a-copy\n",
      "  \n"
     ]
    },
    {
     "name": "stdout",
     "output_type": "stream",
     "text": [
      "     uniprot_id  residue_position  \\\n",
      "0        P31749               450   \n",
      "1        P31749               176   \n",
      "2        P31749               473   \n",
      "3        P31749               129   \n",
      "4        P31749               308   \n",
      "...         ...               ...   \n",
      "3099     O14730               127   \n",
      "3100     O14730               128   \n",
      "3101     O14730               125   \n",
      "3102     O14730               122   \n",
      "3103     O14730                 8   \n",
      "\n",
      "                                       type_modif  genom_begin  genom_end  \n",
      "0                                Phosphothreonine    104770760  104770758  \n",
      "1                         Phosphotyrosine by TNK2    104775117  104775115  \n",
      "2        Phosphoserine by IKKE and MTOR and TBK1     104770367  104770365  \n",
      "3                                  Phosphoserine     104775702  104775700  \n",
      "4     Phosphothreonine by IKKE and PDPK1 and TBK1    104773286  104773284  \n",
      "...                                           ...          ...        ...  \n",
      "3099                                Phosphoserine     23464259   23464261  \n",
      "3100                                Phosphoserine     23464262   23464264  \n",
      "3101                                Phosphoserine     23464253   23464255  \n",
      "3102                              Phosphotyrosine     23464244   23464246  \n",
      "3103                                Phosphoserine     23453461   23453463  \n",
      "\n",
      "[3104 rows x 5 columns]\n"
     ]
    }
   ],
   "source": [
    "import pandas as pd\n",
    "\n",
    "#read the csv\n",
    "df = pd.read_csv(\"phosphosites.csv\", sep=\"\\t\")\n",
    "#df.head()\n",
    "\n",
    "\n",
    "#Getting rid of unwanted elements\n",
    "phos_table = pd.read_csv(\"phosphosites.csv\", sep = \"\\t\") #open the phosphosite list\n",
    "\n",
    "\n",
    "for x in range(len(phos_table)):\n",
    "    \n",
    "    phos_table.type_modif[x] = phos_table.type_modif[x].replace(\".\", \"\").replace(\";\", \"\").replace(\"alternate\",\"\")\n",
    "\n",
    "\n",
    "print (phos_table)\n"
   ]
  },
  {
   "cell_type": "code",
   "execution_count": 2,
   "metadata": {},
   "outputs": [
    {
     "name": "stdout",
     "output_type": "stream",
     "text": [
      "     uniprot_id  residue_position                 type_modif  genom_begin  \\\n",
      "0        P31749               450                               104770760   \n",
      "1        P31749               176                       TNK2    104775117   \n",
      "2        P31749               473    IKKE and MTOR and TBK1     104770367   \n",
      "3        P31749               129                               104775702   \n",
      "4        P31749               308    IKKE and PDPK1 and TBK1    104773286   \n",
      "...         ...               ...                        ...          ...   \n",
      "3099     O14730               127                                23464259   \n",
      "3100     O14730               128                                23464262   \n",
      "3101     O14730               125                                23464253   \n",
      "3102     O14730               122                                23464244   \n",
      "3103     O14730                 8                                23453461   \n",
      "\n",
      "      genom_end             Modif  \n",
      "0     104770758  Phosphothreonine  \n",
      "1     104775115   Phosphotyrosine  \n",
      "2     104770365     Phosphoserine  \n",
      "3     104775700     Phosphoserine  \n",
      "4     104773284  Phosphothreonine  \n",
      "...         ...               ...  \n",
      "3099   23464261     Phosphoserine  \n",
      "3100   23464264     Phosphoserine  \n",
      "3101   23464255     Phosphoserine  \n",
      "3102   23464246   Phosphotyrosine  \n",
      "3103   23453463     Phosphoserine  \n",
      "\n",
      "[3104 rows x 6 columns]\n"
     ]
    },
    {
     "name": "stderr",
     "output_type": "stream",
     "text": [
      "/homes/ly302/anaconda3/lib/python3.7/site-packages/ipykernel_launcher.py:24: SettingWithCopyWarning: \n",
      "A value is trying to be set on a copy of a slice from a DataFrame\n",
      "\n",
      "See the caveats in the documentation: http://pandas.pydata.org/pandas-docs/stable/user_guide/indexing.html#returning-a-view-versus-a-copy\n"
     ]
    }
   ],
   "source": [
    "#we want to separate the 'type_modif' column into two\n",
    "together_list =  phos_table['type_modif']\n",
    "\n",
    "\n",
    "#create an empty list to put \"Phosphotyrosine\",\"Phosphoserine\" and \"Phosphothreonine\" into\n",
    "modif=[] \n",
    "\n",
    "\n",
    "for item in together_list:\n",
    "    #print (together_list)\n",
    "    if \"Phosphotyrosine\" in item:\n",
    "        modif.append(\"Phosphotyrosine\") \n",
    "    elif \"Phosphoserine\" in item:\n",
    "        modif.append(\"Phosphoserine\")\n",
    "    elif \"Phosphothreonine\" in item:\n",
    "        modif.append(\"Phosphothreonine\")\n",
    "phos_table[\"Modif\"] = modif             \n",
    "#print(phos_table)\n",
    "        \n",
    "    \n",
    "#To edit the original 'type_modif' column in the dataframe \n",
    "#Removing 'Phosphotyrosine','Phosphoserine', 'Phosphothreonine' and 'by', leaving behind what phosphorylates the kinase only\n",
    "for x in range(len(phos_table)):\n",
    "    phos_table.type_modif[x] = phos_table.type_modif[x].replace(\"Phosphothreonine\", \"\").replace(\"Phosphoserine\", \"\").replace(\"Phosphotyrosine\", \"\").replace(\"by\", \"\")\n",
    "print(phos_table)    \n",
    "\n",
    "\n",
    "phos_table.to_csv(path_or_buf = \"phosphosite_table.csv\", sep=\"\\t\", index=False)\n",
    "\n",
    "\n",
    "        \n",
    "        \n",
    "        \n"
   ]
  },
  {
   "cell_type": "code",
   "execution_count": null,
   "metadata": {},
   "outputs": [],
   "source": []
  }
 ],
 "metadata": {
  "kernelspec": {
   "display_name": "Python 3",
   "language": "python",
   "name": "python3"
  },
  "language_info": {
   "codemirror_mode": {
    "name": "ipython",
    "version": 3
   },
   "file_extension": ".py",
   "mimetype": "text/x-python",
   "name": "python",
   "nbconvert_exporter": "python",
   "pygments_lexer": "ipython3",
   "version": "3.7.4"
  }
 },
 "nbformat": 4,
 "nbformat_minor": 2
}
